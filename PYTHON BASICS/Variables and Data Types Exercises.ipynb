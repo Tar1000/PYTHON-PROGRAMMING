{
 "cells": [
  {
   "cell_type": "markdown",
   "id": "73950056",
   "metadata": {},
   "source": [
    "# Variables and Data Types Exercise"
   ]
  },
  {
   "cell_type": "markdown",
   "id": "f9bf716d",
   "metadata": {},
   "source": [
    "Question 1: \n",
    "Variable Declaration and Initialization (5 points)\n",
    "Declare and initialize the following variables:\n",
    "\n",
    "1. An integer variable named num_students and set its value to 50.\n",
    "2. A string variable named course_name and set its value to \"Python Programming\".\n",
    "3. A floating-point variable named pi and set its value to 3.14159.\n",
    "4. A boolean variable named is_active and set its value to True.\n",
    "5. A list variable named grades and initialize it with the values [85, 92, 78, 90, 88]."
   ]
  },
  {
   "cell_type": "code",
   "execution_count": null,
   "id": "2b39a12f",
   "metadata": {},
   "outputs": [],
   "source": []
  },
  {
   "cell_type": "markdown",
   "id": "dfdb9e7f",
   "metadata": {},
   "source": [
    "Question 2: Data Type Conversion (10 points)\n",
    "You are given the following variables:\n",
    "\n",
    "income = 2500\n",
    "expenses = 980.50\n",
    "Perform the following operations:\n",
    "\n",
    "1. Calculate the profit by subtracting expenses from income. Store the result in a variable named profit.\n",
    "2. Convert the profit to an integer and store the result in a variable named rounded_profit.\n",
    "3. Convert the rounded_profit to a string and store the result in a variable named profit_str."
   ]
  },
  {
   "cell_type": "code",
   "execution_count": null,
   "id": "5611b032",
   "metadata": {},
   "outputs": [],
   "source": []
  },
  {
   "cell_type": "markdown",
   "id": "6fe1b460",
   "metadata": {},
   "source": [
    "- Question 3: String Manipulation (15 points)\n",
    "- You are given the following string:\n",
    "- message = \"Hello, World!\"\n",
    "- Perform the following operations:\n",
    "\n",
    "1. Print the length of the message.\n",
    "2. Print the message in uppercase.\n",
    "3. Print the message in lowercase.\n",
    "4. Replace \"World\" in the message with \"Python\".\n",
    "5. Check if the message starts with \"Hello\".\n",
    "6. Check if the message ends with \"!\"."
   ]
  },
  {
   "cell_type": "code",
   "execution_count": null,
   "id": "bcaf507c",
   "metadata": {},
   "outputs": [],
   "source": []
  },
  {
   "cell_type": "markdown",
   "id": "9c443e29",
   "metadata": {},
   "source": [
    "- Question 4: List Manipulation (20 points)\n",
    "- You are given the following list:\n",
    "\n",
    "- numbers = [3, 5, 2, 8, 4]\n",
    "- Perform the following operations:\n",
    "\n",
    "1. Print the length of the list.\n",
    "2. Append the number 6 to the end of the list.\n",
    "3. Remove the number 2 from the list.\n",
    "4. Sort the list in ascending order.\n",
    "5. Calculate the sum of all numbers in the list and store the result in a variable named total."
   ]
  },
  {
   "cell_type": "code",
   "execution_count": null,
   "id": "53ec45b2",
   "metadata": {},
   "outputs": [],
   "source": []
  },
  {
   "cell_type": "markdown",
   "id": "b12588da",
   "metadata": {},
   "source": [
    "- Question 5: Dictionary Manipulation (20 points)\n",
    "- You are given the following dictionary:"
   ]
  },
  {
   "cell_type": "code",
   "execution_count": 1,
   "id": "16a5c09d",
   "metadata": {},
   "outputs": [],
   "source": [
    "student = {\n",
    "    \"name\": \"Alice\",\n",
    "    \"age\": 20,\n",
    "    \"major\": \"Computer Science\",\n",
    "    \"gpa\": 3.8\n",
    "}"
   ]
  },
  {
   "cell_type": "markdown",
   "id": "faf283a8",
   "metadata": {},
   "source": [
    "- Perform the following operations:\n",
    "\n",
    "1. Print the value associated with the key \"name\".\n",
    "2. Add a new key-value pair to the dictionary: \"year\" with a value of 2.\n",
    "3. Remove the key-value pair with the key \"major\".\n",
    "4. Update the value of the key \"gpa\" to 3.9.\n",
    "5. Check if the key \"grade\" exists in the dictionary."
   ]
  },
  {
   "cell_type": "code",
   "execution_count": null,
   "id": "280d9e67",
   "metadata": {},
   "outputs": [],
   "source": []
  },
  {
   "cell_type": "markdown",
   "id": "26cb92a4",
   "metadata": {},
   "source": [
    "- Question 6: Set Operations (20 points)\n",
    "- You are given the following sets:"
   ]
  },
  {
   "cell_type": "code",
   "execution_count": 2,
   "id": "aa4afb3b",
   "metadata": {},
   "outputs": [],
   "source": [
    "set1 = {1, 2, 3, 4, 5}\n",
    "set2 = {4, 5, 6, 7, 8}"
   ]
  },
  {
   "cell_type": "markdown",
   "id": "a093c684",
   "metadata": {},
   "source": [
    "- Perform the following operations:\n",
    "\n",
    "1. Print the union of set1 and set2.\n",
    "2. Print the intersection of set1 and set2.\n",
    "3. Print the difference between set1 and set2."
   ]
  },
  {
   "cell_type": "code",
   "execution_count": null,
   "id": "e82ec609",
   "metadata": {},
   "outputs": [],
   "source": []
  },
  {
   "cell_type": "markdown",
   "id": "7e55cf4d",
   "metadata": {},
   "source": [
    "- Question 7: Data Type Conversion and Output Formatting (10 points)\n",
    "- You are given the following variables:"
   ]
  },
  {
   "cell_type": "code",
   "execution_count": 3,
   "id": "65dd9991",
   "metadata": {},
   "outputs": [],
   "source": [
    "temperature = 25.8\n",
    "humidity = 0.75"
   ]
  },
  {
   "cell_type": "markdown",
   "id": "19c08f3f",
   "metadata": {},
   "source": [
    "- Perform the following operations:\n",
    "\n",
    "1. Convert the temperature to an integer and store the result in a variable named rounded_temp.\n",
    "2. Convert the humidity to a percentage (multiply by 100) and store the result in a variable named percentage_humidity.\n",
    "3. Print the temperature and humidity in the following format: \"Temperature: 25.8°C, Humidity: 75%\"."
   ]
  },
  {
   "cell_type": "code",
   "execution_count": null,
   "id": "b03b2988",
   "metadata": {},
   "outputs": [],
   "source": []
  }
 ],
 "metadata": {
  "kernelspec": {
   "display_name": "Python 3 (ipykernel)",
   "language": "python",
   "name": "python3"
  },
  "language_info": {
   "codemirror_mode": {
    "name": "ipython",
    "version": 3
   },
   "file_extension": ".py",
   "mimetype": "text/x-python",
   "name": "python",
   "nbconvert_exporter": "python",
   "pygments_lexer": "ipython3",
   "version": "3.11.5"
  }
 },
 "nbformat": 4,
 "nbformat_minor": 5
}
