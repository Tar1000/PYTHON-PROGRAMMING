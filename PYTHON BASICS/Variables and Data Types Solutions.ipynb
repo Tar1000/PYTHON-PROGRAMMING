{
 "cells": [
  {
   "cell_type": "markdown",
   "id": "659c2264",
   "metadata": {},
   "source": [
    "# Variables and Data Types Solutions\n"
   ]
  },
  {
   "cell_type": "markdown",
   "id": "94f9351a",
   "metadata": {},
   "source": [
    "Question 1: \n",
    "Variable Declaration and Initialization (5 points)\n",
    "Declare and initialize the following variables:\n",
    "\n",
    "1. An integer variable named num_students and set its value to 50.\n",
    "2. A string variable named course_name and set its value to \"Python Programming\".\n",
    "3. A floating-point variable named pi and set its value to 3.14159.\n",
    "4. A boolean variable named is_active and set its value to True.\n",
    "5. A list variable named grades and initialize it with the values [85, 92, 78, 90, 88]."
   ]
  },
  {
   "cell_type": "code",
   "execution_count": 4,
   "id": "cf77bea4",
   "metadata": {},
   "outputs": [],
   "source": [
    "# Question 1: Variable Declaration and Initialization\n",
    "\n",
    "# Write your code below this line\n",
    "num_students = 50\n",
    "course_name = \"Python Programming\"\n",
    "pi = 3.14159\n",
    "is_active = True\n",
    "grades = [85, 92, 78, 90, 88]\n",
    "# End of your code"
   ]
  },
  {
   "cell_type": "markdown",
   "id": "7ecbd3d7",
   "metadata": {},
   "source": [
    "Question 2: Data Type Conversion (10 points)\n",
    "You are given the following variables:\n",
    "\n",
    "income = 2500\n",
    "expenses = 980.50\n",
    "Perform the following operations:\n",
    "\n",
    "1. Calculate the profit by subtracting expenses from income. Store the result in a variable named profit.\n",
    "2. Convert the profit to an integer and store the result in a variable named rounded_profit.\n",
    "3. Convert the rounded_profit to a string and store the result in a variable named profit_str."
   ]
  },
  {
   "cell_type": "code",
   "execution_count": 5,
   "id": "5515b496",
   "metadata": {},
   "outputs": [],
   "source": [
    "income = 2500\n",
    "expenses = 980.50"
   ]
  },
  {
   "cell_type": "code",
   "execution_count": 6,
   "id": "48c0c803",
   "metadata": {},
   "outputs": [],
   "source": [
    "# Question 2: Data Type Conversion\n",
    "\n",
    "# Write your code below this line\n",
    "profit = income - expenses\n",
    "rounded_profit = int(profit)\n",
    "profit_str = str(rounded_profit)\n",
    "# End of your code"
   ]
  },
  {
   "cell_type": "markdown",
   "id": "2ac3a666",
   "metadata": {},
   "source": [
    "- Question 3: String Manipulation (15 points)\n",
    "- You are given the following string:\n",
    "- message = \"Hello, World!\"\n",
    "- Perform the following operations:\n",
    "\n",
    "1. Print the length of the message.\n",
    "2. Print the message in uppercase.\n",
    "3. Print the message in lowercase.\n",
    "4. Replace \"World\" in the message with \"Python\".\n",
    "5. Check if the message starts with \"Hello\".\n",
    "6. Check if the message ends with \"!\"."
   ]
  },
  {
   "cell_type": "code",
   "execution_count": 7,
   "id": "0751701a",
   "metadata": {},
   "outputs": [],
   "source": [
    "message = \"Hello, World!\""
   ]
  },
  {
   "cell_type": "code",
   "execution_count": 8,
   "id": "5eb9e7e9",
   "metadata": {},
   "outputs": [
    {
     "name": "stdout",
     "output_type": "stream",
     "text": [
      "13\n",
      "HELLO, WORLD!\n",
      "hello, world!\n",
      "True\n",
      "True\n"
     ]
    }
   ],
   "source": [
    "# Question 3: String Manipulation\n",
    "\n",
    "# Write your code below this line\n",
    "print(len(message))\n",
    "print(message.upper())\n",
    "print(message.lower())\n",
    "message = message.replace(\"World\", \"Python\")\n",
    "print(message.startswith(\"Hello\"))\n",
    "print(message.endswith(\"!\"))\n",
    "# End of your code"
   ]
  },
  {
   "cell_type": "markdown",
   "id": "68bf29fa",
   "metadata": {},
   "source": [
    "- Question 4: List Manipulation (20 points)\n",
    "- You are given the following list:\n",
    "\n",
    "- numbers = [3, 5, 2, 8, 4]\n",
    "- Perform the following operations:\n",
    "\n",
    "1. Print the length of the list.\n",
    "2. Append the number 6 to the end of the list.\n",
    "3. Remove the number 2 from the list.\n",
    "4. Sort the list in ascending order.\n",
    "5. Calculate the sum of all numbers in the list and store the result in a variable named total."
   ]
  },
  {
   "cell_type": "code",
   "execution_count": 20,
   "id": "6086b6ff",
   "metadata": {},
   "outputs": [],
   "source": [
    "numbers = [3, 5, 2, 8, 4]"
   ]
  },
  {
   "cell_type": "code",
   "execution_count": 21,
   "id": "a1026e8a",
   "metadata": {},
   "outputs": [
    {
     "name": "stdout",
     "output_type": "stream",
     "text": [
      "5\n",
      "[3, 5, 2, 8, 4, 6]\n",
      "[3, 5, 8, 4, 6]\n",
      "[3, 4, 5, 6, 8]\n",
      "26\n"
     ]
    }
   ],
   "source": [
    "# Question 4: List Manipulation\n",
    "\n",
    "# Write your code below this line\n",
    "print(len(numbers))\n",
    "numbers.append(6)\n",
    "print(numbers)\n",
    "numbers.remove(2)\n",
    "print(numbers)\n",
    "numbers.sort()\n",
    "print(numbers)\n",
    "total = sum(numbers)\n",
    "print(total)\n",
    "# End of your code"
   ]
  },
  {
   "cell_type": "markdown",
   "id": "1868f7e3",
   "metadata": {},
   "source": [
    "- Question 5: Dictionary Manipulation (20 points)\n",
    "- You are given the following dictionary:"
   ]
  },
  {
   "cell_type": "code",
   "execution_count": 25,
   "id": "688c978f",
   "metadata": {},
   "outputs": [],
   "source": [
    "student = {\n",
    "    \"name\": \"Alice\",\n",
    "    \"age\": 20,\n",
    "    \"major\": \"Computer Science\",\n",
    "    \"gpa\": 3.8\n",
    "}"
   ]
  },
  {
   "cell_type": "markdown",
   "id": "d2adb21c",
   "metadata": {},
   "source": [
    "- Perform the following operations:\n",
    "\n",
    "1. Print the value associated with the key \"name\".\n",
    "2. Add a new key-value pair to the dictionary: \"year\" with a value of 2.\n",
    "3. Remove the key-value pair with the key \"major\".\n",
    "4. Update the value of the key \"gpa\" to 3.9.\n",
    "5. Check if the key \"grade\" exists in the dictionary."
   ]
  },
  {
   "cell_type": "code",
   "execution_count": 26,
   "id": "8a205b70",
   "metadata": {},
   "outputs": [
    {
     "name": "stdout",
     "output_type": "stream",
     "text": [
      "Alice\n"
     ]
    }
   ],
   "source": [
    "# Question 5: Dictionary Manipulation\n",
    "\n",
    "# Write your code below this line\n",
    "print(student[\"name\"])\n",
    "student[\"year\"] = 2\n",
    "del student[\"major\"]\n",
    "student[\"gpa\"] = 3.9\n",
    "is_grade_present = \"grade\" in student\n",
    "# End of your code"
   ]
  },
  {
   "cell_type": "markdown",
   "id": "0b03fba5",
   "metadata": {},
   "source": [
    "- Question 6: Set Operations (20 points)\n",
    "- You are given the following sets:"
   ]
  },
  {
   "cell_type": "code",
   "execution_count": 27,
   "id": "450ecd07",
   "metadata": {},
   "outputs": [],
   "source": [
    "set1 = {1, 2, 3, 4, 5}\n",
    "set2 = {4, 5, 6, 7, 8}"
   ]
  },
  {
   "cell_type": "markdown",
   "id": "2cfde0b4",
   "metadata": {},
   "source": [
    "- Perform the following operations:\n",
    "\n",
    "1. Print the union of set1 and set2.\n",
    "2. Print the intersection of set1 and set2.\n",
    "3. Print the difference between set1 and set2."
   ]
  },
  {
   "cell_type": "code",
   "execution_count": 28,
   "id": "6adab7a4",
   "metadata": {},
   "outputs": [],
   "source": [
    "# Question 6: Set Operations\n",
    "\n",
    "# Write your code below this line\n",
    "union_set = set1.union(set2)\n",
    "intersection_set = set1.intersection(set2)\n",
    "difference_set = set1.difference(set2)\n",
    "# End of your code"
   ]
  },
  {
   "cell_type": "markdown",
   "id": "d4b6aebd",
   "metadata": {},
   "source": [
    "- Question 7: Data Type Conversion and Output Formatting (10 points)\n",
    "- You are given the following variables:"
   ]
  },
  {
   "cell_type": "code",
   "execution_count": 3,
   "id": "4602989e",
   "metadata": {},
   "outputs": [],
   "source": [
    "temperature = 25.8\n",
    "humidity = 0.75"
   ]
  },
  {
   "cell_type": "markdown",
   "id": "4ad32831",
   "metadata": {},
   "source": [
    "- Perform the following operations:\n",
    "\n",
    "1. Convert the temperature to an integer and store the result in a variable named rounded_temp.\n",
    "2. Convert the humidity to a percentage (multiply by 100) and store the result in a variable named percentage_humidity.\n",
    "3. Print the temperature and humidity in the following format: \"Temperature: 25.8°C, Humidity: 75%\"."
   ]
  },
  {
   "cell_type": "code",
   "execution_count": 29,
   "id": "daf0c6ba",
   "metadata": {},
   "outputs": [
    {
     "name": "stdout",
     "output_type": "stream",
     "text": [
      "Temperature: 25°C, Humidity: 75.0%\n"
     ]
    }
   ],
   "source": [
    "# Question 8: Data Type Conversion and Output Formatting\n",
    "\n",
    "# Write your code below this line\n",
    "rounded_temp = int(temperature)\n",
    "percentage_humidity = humidity * 100\n",
    "print(f\"Temperature: {rounded_temp}°C, Humidity: {percentage_humidity}%\")\n",
    "# End of your code"
   ]
  },
  {
   "cell_type": "code",
   "execution_count": null,
   "id": "b5fc19fd",
   "metadata": {},
   "outputs": [],
   "source": []
  }
 ],
 "metadata": {
  "kernelspec": {
   "display_name": "Python 3 (ipykernel)",
   "language": "python",
   "name": "python3"
  },
  "language_info": {
   "codemirror_mode": {
    "name": "ipython",
    "version": 3
   },
   "file_extension": ".py",
   "mimetype": "text/x-python",
   "name": "python",
   "nbconvert_exporter": "python",
   "pygments_lexer": "ipython3",
   "version": "3.11.5"
  }
 },
 "nbformat": 4,
 "nbformat_minor": 5
}
