{
 "cells": [
  {
   "cell_type": "markdown",
   "id": "1e3f06b5",
   "metadata": {},
   "source": [
    "# Control flow (conditionals, loops) "
   ]
  },
  {
   "cell_type": "markdown",
   "id": "66961838",
   "metadata": {},
   "source": [
    "- In Python, control flow refers to the order in which statements and instructions are executed based on certain conditions. The two primary components of control flow are conditionals and loops.\n",
    "\n",
    "- Conditionals:\n",
    "- Conditionals allow you to make decisions or execute certain code blocks based on specific conditions. The main conditional statements in Python are:\n",
    "\n",
    "1. if statement: Executes a block of code if a specified condition is true.\n",
    "2. if-else statement: Executes a block of code if a specified condition is true, and another block of code if the condition is false.\n",
    "3. if-elif-else statement: Executes different blocks of code based on multiple conditions. The elif stands for \"else if.\"\n",
    "- Here's an example that demonstrates the usage of conditionals:"
   ]
  },
  {
   "cell_type": "code",
   "execution_count": 1,
   "id": "62aada9e",
   "metadata": {},
   "outputs": [
    {
     "name": "stdout",
     "output_type": "stream",
     "text": [
      "Positive\n"
     ]
    }
   ],
   "source": [
    "# Conditional Example\n",
    "x = 10\n",
    "\n",
    "if x > 0:\n",
    "    print(\"Positive\")\n",
    "elif x == 0:\n",
    "    print(\"Zero\")\n",
    "else:\n",
    "    print(\"Negative\")"
   ]
  },
  {
   "cell_type": "raw",
   "id": "9a6575e0",
   "metadata": {},
   "source": [
    "Loops:\n",
    "Loops are used to repeatedly execute a block of code until a specified condition is met. The main types of loops in Python are:\n",
    "\n",
    "for loop: Iterates over a sequence (such as a list, tuple, or string) or any iterable object.\n",
    "while loop: Repeatedly executes a block of code as long as a given condition is true.\n",
    "Here's an example that demonstrates the usage of loops:"
   ]
  },
  {
   "cell_type": "code",
   "execution_count": 2,
   "id": "59a91fda",
   "metadata": {},
   "outputs": [
    {
     "name": "stdout",
     "output_type": "stream",
     "text": [
      "Alice\n",
      "Bob\n",
      "Charlie\n",
      "0\n",
      "1\n",
      "2\n",
      "3\n",
      "4\n"
     ]
    }
   ],
   "source": [
    "# Loop Example\n",
    "# For loop\n",
    "names = [\"Alice\", \"Bob\", \"Charlie\"]\n",
    "for name in names:\n",
    "    print(name)\n",
    "\n",
    "# While loop\n",
    "count = 0\n",
    "while count < 5:\n",
    "    print(count)\n",
    "    count += 1"
   ]
  },
  {
   "cell_type": "raw",
   "id": "ca551f94",
   "metadata": {},
   "source": [
    "Control Flow Keywords:\n",
    "\n",
    "break: Terminates the loop prematurely.\n",
    "continue: Skips the rest of the loop iteration and moves to the next iteration.\n",
    "pass: Acts as a placeholder, indicating that no action should be taken.\n",
    "Here's an example that demonstrates the usage of control flow keywords:"
   ]
  },
  {
   "cell_type": "code",
   "execution_count": 3,
   "id": "0d136791",
   "metadata": {},
   "outputs": [
    {
     "name": "stdout",
     "output_type": "stream",
     "text": [
      "1\n",
      "3\n"
     ]
    }
   ],
   "source": [
    "# Control Flow Keywords Example\n",
    "for number in range(10):\n",
    "    if number == 5:\n",
    "        break\n",
    "    if number % 2 == 0:\n",
    "        continue\n",
    "    print(number)"
   ]
  },
  {
   "cell_type": "raw",
   "id": "da76c8e1",
   "metadata": {},
   "source": [
    "Switch case:\n",
    "In Python, there is no built-in switch statement like in some other programming languages. However, you can achieve similar functionality using various approaches. One common approach is to use a dictionary mapping to simulate a switch case.\n",
    "\n",
    "Here's an example of using a dictionary mapping to implement a simple switch case in Python:"
   ]
  },
  {
   "cell_type": "code",
   "execution_count": 4,
   "id": "abec6643",
   "metadata": {},
   "outputs": [
    {
     "name": "stdout",
     "output_type": "stream",
     "text": [
      "Result: 8\n",
      "Result: 6\n",
      "Result: 14\n",
      "Result: 3.0\n",
      "Result: Invalid operator\n"
     ]
    }
   ],
   "source": [
    "def perform_operation(operator, operand1, operand2):\n",
    "    operation = {\n",
    "        '+': operand1 + operand2,\n",
    "        '-': operand1 - operand2,\n",
    "        '*': operand1 * operand2,\n",
    "        '/': operand1 / operand2,\n",
    "    }\n",
    "    return operation.get(operator, \"Invalid operator\")\n",
    "\n",
    "\n",
    "# Example usage\n",
    "result = perform_operation('+', 5, 3)\n",
    "print(\"Result:\", result)  # Output: 8\n",
    "\n",
    "result = perform_operation('-', 10, 4)\n",
    "print(\"Result:\", result)  # Output: 6\n",
    "\n",
    "result = perform_operation('*', 7, 2)\n",
    "print(\"Result:\", result)  # Output: 14\n",
    "\n",
    "result = perform_operation('/', 15, 5)\n",
    "print(\"Result:\", result)  # Output: 3\n",
    "\n",
    "result = perform_operation('%', 8, 3)\n",
    "print(\"Result:\", result)  # Output: Invalid operator"
   ]
  },
  {
   "cell_type": "code",
   "execution_count": null,
   "id": "e6d162d6",
   "metadata": {},
   "outputs": [],
   "source": []
  }
 ],
 "metadata": {
  "kernelspec": {
   "display_name": "Python 3 (ipykernel)",
   "language": "python",
   "name": "python3"
  },
  "language_info": {
   "codemirror_mode": {
    "name": "ipython",
    "version": 3
   },
   "file_extension": ".py",
   "mimetype": "text/x-python",
   "name": "python",
   "nbconvert_exporter": "python",
   "pygments_lexer": "ipython3",
   "version": "3.11.5"
  }
 },
 "nbformat": 4,
 "nbformat_minor": 5
}
