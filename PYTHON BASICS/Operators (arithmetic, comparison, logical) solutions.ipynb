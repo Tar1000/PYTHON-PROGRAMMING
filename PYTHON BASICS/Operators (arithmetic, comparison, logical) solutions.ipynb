{
 "cells": [
  {
   "cell_type": "markdown",
   "id": "37b704cc",
   "metadata": {},
   "source": [
    "# Operators (arithmetic, comparison, logical) solutions\n"
   ]
  },
  {
   "cell_type": "markdown",
   "id": "bd970a1d",
   "metadata": {},
   "source": [
    "- Question 1: Arithmetic Operators (10 points)\n",
    "- Write a Python program that takes two numbers as input from the user and performs the following operations:\n",
    "\n",
    "1. Add the two numbers and display the result.\n",
    "2. Multiply the two numbers and display the result.\n",
    "3. Divide the first number by the second number and display the result."
   ]
  },
  {
   "cell_type": "code",
   "execution_count": 1,
   "id": "4a95b32f",
   "metadata": {},
   "outputs": [
    {
     "name": "stdout",
     "output_type": "stream",
     "text": [
      "Enter the first number: 45\n",
      "Enter the second number: 41\n",
      "Sum: 86.0\n",
      "Product: 1845.0\n",
      "Division: 1.0975609756097562\n"
     ]
    }
   ],
   "source": [
    "# Question 1: Arithmetic Operators\n",
    "\n",
    "# Write your code below this line\n",
    "num1 = float(input(\"Enter the first number: \"))\n",
    "num2 = float(input(\"Enter the second number: \"))\n",
    "\n",
    "# Perform arithmetic operations\n",
    "sum_result = num1 + num2\n",
    "product_result = num1 * num2\n",
    "division_result = num1 / num2\n",
    "\n",
    "# Display the results\n",
    "print(\"Sum:\", sum_result)\n",
    "print(\"Product:\", product_result)\n",
    "print(\"Division:\", division_result)\n",
    "# End of your code"
   ]
  },
  {
   "cell_type": "markdown",
   "id": "bfeea7a7",
   "metadata": {},
   "source": [
    "- Question 2: Comparison Operators (15 points)\n",
    "- Write a Python program that compares two numbers entered by the user and displays the following information:\n",
    "\n",
    "1. Whether the first number is greater than the second number.\n",
    "2. Whether the first number is less than or equal to the second number.\n",
    "3. Whether the first number is equal to the second number."
   ]
  },
  {
   "cell_type": "code",
   "execution_count": 2,
   "id": "03cce8ff",
   "metadata": {},
   "outputs": [
    {
     "name": "stdout",
     "output_type": "stream",
     "text": [
      "Enter the first number: 56\n",
      "Enter the second number: 41\n",
      "First number > Second number: True\n",
      "First number <= Second number: False\n",
      "First number == Second number: False\n"
     ]
    }
   ],
   "source": [
    "# Question 2: Comparison Operators\n",
    "\n",
    "# Write your code below this line\n",
    "num1 = float(input(\"Enter the first number: \"))\n",
    "num2 = float(input(\"Enter the second number: \"))\n",
    "\n",
    "# Perform comparison operations\n",
    "greater_than = num1 > num2\n",
    "less_than_equal = num1 <= num2\n",
    "equal = num1 == num2\n",
    "\n",
    "# Display the results\n",
    "print(\"First number > Second number:\", greater_than)\n",
    "print(\"First number <= Second number:\", less_than_equal)\n",
    "print(\"First number == Second number:\", equal)\n",
    "# End of your code"
   ]
  },
  {
   "cell_type": "markdown",
   "id": "e8b29596",
   "metadata": {},
   "source": [
    "-Question Three\n",
    "- Write a Python program that takes a number from the user and determines whether it satisfies the following conditions:\n",
    "\n",
    "1. The number is greater than 10 and less than 20.\n",
    "2. The number is either divisible by 2 or divisible by 5.\n",
    "- Display the results accordingly."
   ]
  },
  {
   "cell_type": "code",
   "execution_count": null,
   "id": "bc764617",
   "metadata": {},
   "outputs": [],
   "source": []
  }
 ],
 "metadata": {
  "kernelspec": {
   "display_name": "Python 3 (ipykernel)",
   "language": "python",
   "name": "python3"
  },
  "language_info": {
   "codemirror_mode": {
    "name": "ipython",
    "version": 3
   },
   "file_extension": ".py",
   "mimetype": "text/x-python",
   "name": "python",
   "nbconvert_exporter": "python",
   "pygments_lexer": "ipython3",
   "version": "3.11.5"
  }
 },
 "nbformat": 4,
 "nbformat_minor": 5
}
