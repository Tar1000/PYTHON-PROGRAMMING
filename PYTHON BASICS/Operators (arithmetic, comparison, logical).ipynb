{
 "cells": [
  {
   "cell_type": "markdown",
   "id": "b30d6ab5",
   "metadata": {},
   "source": [
    "# Operators (arithmetic, comparison, logical) "
   ]
  },
  {
   "cell_type": "markdown",
   "id": "85f47902",
   "metadata": {},
   "source": [
    "- In Python, there are several types of operators: arithmetic operators, comparison operators, and logical operators. Here's a brief overview of each type:\n",
    "\n",
    "1. Arithmetic Operators:\n",
    "\n",
    "- Addition: +\n",
    "- Subtraction: -\n",
    "- Multiplication: *\n",
    "- Division: /\n",
    "- Floor Division: // (returns the quotient of the division, discarding any decimal places)\n",
    "- Modulo: % (returns the remainder of the division)\n",
    "- Exponentiation: ** (raises a number to the power of another)\n",
    "\n",
    "2. Comparison Operators:\n",
    "\n",
    "- Equal to: ==\n",
    "- Not equal to: !=\n",
    "- Greater than: >\n",
    "- Less than: <\n",
    "- Greater than or equal to: >=\n",
    "- Less than or equal to: <=\n",
    "\n",
    "3. Logical Operators:\n",
    "\n",
    "- Logical AND: and (returns True if both operands are True, otherwise False)\n",
    "- Logical OR: or (returns True if at least one of the operands is True, otherwise False)\n",
    "- Logical NOT: not (reverses the logical value of the operand)"
   ]
  },
  {
   "cell_type": "code",
   "execution_count": 2,
   "id": "d2772bae",
   "metadata": {},
   "outputs": [
    {
     "name": "stdout",
     "output_type": "stream",
     "text": [
      "13\n",
      "7\n",
      "30\n",
      "3.3333333333333335\n",
      "3\n",
      "1\n",
      "1000\n",
      "False\n",
      "True\n",
      "False\n",
      "True\n",
      "False\n",
      "True\n",
      "False\n",
      "True\n",
      "False\n"
     ]
    }
   ],
   "source": [
    "# Arithmetic Operators\n",
    "x = 10\n",
    "y = 3\n",
    "print(x + y)    # Output: 13\n",
    "print(x - y)    # Output: 7\n",
    "print(x * y)    # Output: 30\n",
    "print(x / y)    # Output: 3.3333333333333335\n",
    "print(x // y)   # Output: 3\n",
    "print(x % y)    # Output: 1\n",
    "print(x ** y)   # Output: 1000\n",
    "\n",
    "# Comparison Operators\n",
    "a = 5\n",
    "b = 7\n",
    "print(a == b)   # Output: False\n",
    "print(a != b)   # Output: True\n",
    "print(a > b)    # Output: False\n",
    "print(a < b)    # Output: True\n",
    "print(a >= b)   # Output: False\n",
    "print(a <= b)   # Output: True\n",
    "\n",
    "# Logical Operators\n",
    "p = True\n",
    "q = False\n",
    "print(p and q)  # Output: False\n",
    "print(p or q)   # Output: True\n",
    "print(not p)    # Output: False"
   ]
  }
 ],
 "metadata": {
  "kernelspec": {
   "display_name": "Python 3 (ipykernel)",
   "language": "python",
   "name": "python3"
  },
  "language_info": {
   "codemirror_mode": {
    "name": "ipython",
    "version": 3
   },
   "file_extension": ".py",
   "mimetype": "text/x-python",
   "name": "python",
   "nbconvert_exporter": "python",
   "pygments_lexer": "ipython3",
   "version": "3.11.5"
  }
 },
 "nbformat": 4,
 "nbformat_minor": 5
}
