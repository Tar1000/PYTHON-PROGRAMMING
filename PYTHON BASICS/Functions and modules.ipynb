{
 "cells": [
  {
   "cell_type": "markdown",
   "id": "efb2fd08",
   "metadata": {},
   "source": [
    "# Functions "
   ]
  },
  {
   "cell_type": "raw",
   "id": "8a0ec8f3",
   "metadata": {},
   "source": [
    "In Python, functions and modules are essential concepts that allow you to organize and reuse code. Functions are blocks of code that perform a specific task, and modules are files containing functions, variables, and other code that can be imported and used in other programs. Let's dive into each concept with detailed examples:\n",
    "\n",
    "Functions:\n",
    "A function is a reusable block of code that performs a specific task. It takes inputs (arguments) and may return an output. Functions help in modularizing code and promoting code reuse. Here's an example of a simple function that calculates the area of a rectangle:"
   ]
  },
  {
   "cell_type": "code",
   "execution_count": 1,
   "id": "45e538e2",
   "metadata": {},
   "outputs": [
    {
     "name": "stdout",
     "output_type": "stream",
     "text": [
      "Area of the rectangle: 15\n"
     ]
    }
   ],
   "source": [
    "def calculate_rectangle_area(length, width):\n",
    "    area = length * width\n",
    "    return area\n",
    "\n",
    "# Example usage\n",
    "length = 5\n",
    "width = 3\n",
    "result = calculate_rectangle_area(length, width)\n",
    "print(\"Area of the rectangle:\", result)  # Output: 15"
   ]
  },
  {
   "cell_type": "raw",
   "id": "b43104f3",
   "metadata": {},
   "source": [
    "In the example above, the calculate_rectangle_area function takes two arguments (length and width) and calculates the area of a rectangle by multiplying the length and width. The result is then returned using the return statement."
   ]
  },
  {
   "cell_type": "raw",
   "id": "d4a49ef9",
   "metadata": {},
   "source": [
    "Example 1: Factorial Function\n",
    "The factorial of a non-negative integer n is the product of all positive integers less than or equal to n. Here's an example of a factorial function implemented using recursion:"
   ]
  },
  {
   "cell_type": "code",
   "execution_count": 11,
   "id": "ca54cd56",
   "metadata": {},
   "outputs": [
    {
     "name": "stdout",
     "output_type": "stream",
     "text": [
      "Factorial of 5 is 120\n"
     ]
    }
   ],
   "source": [
    "def factorial(n):\n",
    "    if n == 0:\n",
    "        return 1\n",
    "    else:\n",
    "        return n * factorial(n - 1)\n",
    "\n",
    "# Example usage\n",
    "number = 5\n",
    "result = factorial(number)\n",
    "print(\"Factorial of\", number, \"is\", result)  # Output: Factorial of 5 is 120"
   ]
  },
  {
   "cell_type": "raw",
   "id": "4a073984",
   "metadata": {},
   "source": [
    "In this example, the factorial function recursively calls itself until it reaches the base case (n == 0), where it returns 1. The function calculates the factorial by multiplying n with the factorial of n-1."
   ]
  },
  {
   "cell_type": "raw",
   "id": "247ebda1",
   "metadata": {},
   "source": [
    "Example 2: Fibonacci Sequence\n",
    "The Fibonacci sequence is a series of numbers where each number is the sum of the two preceding ones. Here's an example of a function that generates the Fibonacci sequence up to a specified limit:"
   ]
  },
  {
   "cell_type": "code",
   "execution_count": 12,
   "id": "e2ad9f0d",
   "metadata": {},
   "outputs": [
    {
     "name": "stdout",
     "output_type": "stream",
     "text": [
      "Fibonacci sequence up to 100 : [0, 1, 1, 2, 3, 5, 8, 13, 21, 34, 55, 89]\n"
     ]
    }
   ],
   "source": [
    "def fibonacci_sequence(limit):\n",
    "    sequence = [0, 1]\n",
    "    while sequence[-1] + sequence[-2] <= limit:\n",
    "        next_number = sequence[-1] + sequence[-2]\n",
    "        sequence.append(next_number)\n",
    "    return sequence\n",
    "\n",
    "# Example usage\n",
    "limit = 100\n",
    "fibonacci = fibonacci_sequence(limit)\n",
    "print(\"Fibonacci sequence up to\", limit, \":\", fibonacci)\n",
    "# Output: Fibonacci sequence up to 100 : [0, 1, 1, 2, 3, 5, 8, 13, 21, 34, 55, 89]"
   ]
  },
  {
   "cell_type": "raw",
   "id": "e25f50aa",
   "metadata": {},
   "source": [
    "In this example, the fibonacci_sequence function takes a limit as input and generates the Fibonacci sequence up to that limit. It starts with the first two numbers (0 and 1) and iteratively calculates the next number by adding the last two numbers in the sequence. The loop continues until the next number exceeds the specified limit."
   ]
  },
  {
   "cell_type": "raw",
   "id": "e60d9a9f",
   "metadata": {},
   "source": [
    "Example 3: Prime Number Check\n",
    "A prime number is a natural number greater than 1 that has no positive divisors other than 1 and itself. Here's an example of a function that checks whether a given number is prime:"
   ]
  },
  {
   "cell_type": "code",
   "execution_count": 13,
   "id": "725f2d3d",
   "metadata": {},
   "outputs": [
    {
     "name": "stdout",
     "output_type": "stream",
     "text": [
      "17 is a prime number\n"
     ]
    }
   ],
   "source": [
    "def is_prime(number):\n",
    "    if number <= 1:\n",
    "        return False\n",
    "    for i in range(2, int(number**0.5) + 1):\n",
    "        if number % i == 0:\n",
    "            return False\n",
    "    return True\n",
    "\n",
    "# Example usage\n",
    "num = 17\n",
    "if is_prime(num):\n",
    "    print(num, \"is a prime number\")\n",
    "else:\n",
    "    print(num, \"is not a prime number\")"
   ]
  },
  {
   "cell_type": "code",
   "execution_count": 1,
   "id": "27eb9b5c",
   "metadata": {},
   "outputs": [
    {
     "name": "stdout",
     "output_type": "stream",
     "text": [
      "35\n"
     ]
    }
   ],
   "source": [
    "def calculateRecArea(l, w):\n",
    "    return l*w\n",
    "recArea=calculateRecArea(5, 7)\n",
    "print(recArea)"
   ]
  },
  {
   "cell_type": "code",
   "execution_count": null,
   "id": "3b50e7a8",
   "metadata": {},
   "outputs": [],
   "source": []
  }
 ],
 "metadata": {
  "kernelspec": {
   "display_name": "Python 3 (ipykernel)",
   "language": "python",
   "name": "python3"
  },
  "language_info": {
   "codemirror_mode": {
    "name": "ipython",
    "version": 3
   },
   "file_extension": ".py",
   "mimetype": "text/x-python",
   "name": "python",
   "nbconvert_exporter": "python",
   "pygments_lexer": "ipython3",
   "version": "3.11.5"
  }
 },
 "nbformat": 4,
 "nbformat_minor": 5
}
