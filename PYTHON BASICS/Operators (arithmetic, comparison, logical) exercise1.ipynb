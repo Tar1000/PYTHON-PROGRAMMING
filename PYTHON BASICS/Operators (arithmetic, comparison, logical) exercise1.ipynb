{
 "cells": [
  {
   "cell_type": "markdown",
   "id": "91ef33b2",
   "metadata": {},
   "source": [
    "# Operators (arithmetic, comparison, logical) exercise"
   ]
  },
  {
   "cell_type": "markdown",
   "id": "b11d9177",
   "metadata": {},
   "source": [
    "- Question 1: Arithmetic Operators (10 points)\n",
    "- Write a Python program that takes two numbers as input from the user and performs the following operations:\n",
    "\n",
    "1. Add the two numbers and display the result.\n",
    "2. Multiply the two numbers and display the result.\n",
    "3. Divide the first number by the second number and display the result."
   ]
  },
  {
   "cell_type": "code",
   "execution_count": null,
   "id": "5e44f08d",
   "metadata": {},
   "outputs": [],
   "source": []
  },
  {
   "cell_type": "markdown",
   "id": "e27b9f31",
   "metadata": {},
   "source": [
    "- Question 2: Comparison Operators (15 points)\n",
    "1. Write a Python program that compares two numbers entered by the user and displays the following information:\n",
    "2. Whether the first number is greater than the second number.\n",
    "3. Whether the first number is less than or equal to the second number.\n",
    "4. Whether the first number is equal to the second number."
   ]
  },
  {
   "cell_type": "code",
   "execution_count": null,
   "id": "66808f82",
   "metadata": {},
   "outputs": [],
   "source": []
  },
  {
   "cell_type": "markdown",
   "id": "42bcb579",
   "metadata": {},
   "source": [
    "- Question 3\n",
    "- Write a Python program that takes a number from the user and determines whether it satisfies the following conditions:\n",
    "\n",
    "1. The number is greater than 10 and less than 20.\n",
    "2. The number is either divisible by 2 or divisible by 5.\n",
    "- Display the results accordingly."
   ]
  },
  {
   "cell_type": "code",
   "execution_count": null,
   "id": "944e1a14",
   "metadata": {},
   "outputs": [],
   "source": []
  }
 ],
 "metadata": {
  "kernelspec": {
   "display_name": "Python 3 (ipykernel)",
   "language": "python",
   "name": "python3"
  },
  "language_info": {
   "codemirror_mode": {
    "name": "ipython",
    "version": 3
   },
   "file_extension": ".py",
   "mimetype": "text/x-python",
   "name": "python",
   "nbconvert_exporter": "python",
   "pygments_lexer": "ipython3",
   "version": "3.11.5"
  }
 },
 "nbformat": 4,
 "nbformat_minor": 5
}
