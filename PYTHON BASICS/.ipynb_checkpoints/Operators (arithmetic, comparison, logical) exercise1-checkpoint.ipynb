{
 "cells": [
  {
   "cell_type": "markdown",
   "id": "531dd409",
   "metadata": {},
   "source": [
    "# Operators (arithmetic, comparison, logical) exercises"
   ]
  },
  {
   "cell_type": "markdown",
   "id": "f9076af2",
   "metadata": {},
   "source": [
    "- Question 1: Arithmetic Operators (10 points)\n",
    "- Write a Python program that takes two numbers as input from the user and performs the following operations:\n",
    "\n",
    "1. Add the two numbers and display the result.\n",
    "2. Multiply the two numbers and display the result.\n",
    "3. Divide the first number by the second number and display the result."
   ]
  },
  {
   "cell_type": "code",
   "execution_count": 1,
   "id": "bf30c094",
   "metadata": {},
   "outputs": [
    {
     "name": "stdout",
     "output_type": "stream",
     "text": [
      "Enter the first number: 45\n",
      "Enter the second number: 41\n",
      "Sum: 86.0\n",
      "Product: 1845.0\n",
      "Division: 1.0975609756097562\n"
     ]
    }
   ],
   "source": [
    "# Question 1: Arithmetic Operators\n",
    "\n",
    "# Write your code below this line\n",
    "num1 = float(input(\"Enter the first number: \"))\n",
    "num2 = float(input(\"Enter the second number: \"))\n",
    "\n",
    "# Perform arithmetic operations\n",
    "sum_result = num1 + num2\n",
    "product_result = num1 * num2\n",
    "division_result = num1 / num2\n",
    "\n",
    "# Display the results\n",
    "print(\"Sum:\", sum_result)\n",
    "print(\"Product:\", product_result)\n",
    "print(\"Division:\", division_result)\n",
    "# End of your code"
   ]
  },
  {
   "cell_type": "markdown",
   "id": "0f5b1a08",
   "metadata": {},
   "source": [
    "- Question 2: Comparison Operators (15 points)\n",
    "- Write a Python program that compares two numbers entered by the user and displays the following information:\n",
    "\n",
    "1. Whether the first number is greater than the second number.\n",
    "2. Whether the first number is less than or equal to the second number.\n",
    "3. Whether the first number is equal to the second number."
   ]
  },
  {
   "cell_type": "code",
   "execution_count": 2,
   "id": "c8a24c44",
   "metadata": {},
   "outputs": [
    {
     "name": "stdout",
     "output_type": "stream",
     "text": [
      "Enter the first number: 56\n",
      "Enter the second number: 41\n",
      "First number > Second number: True\n",
      "First number <= Second number: False\n",
      "First number == Second number: False\n"
     ]
    }
   ],
   "source": [
    "# Question 2: Comparison Operators\n",
    "\n",
    "# Write your code below this line\n",
    "num1 = float(input(\"Enter the first number: \"))\n",
    "num2 = float(input(\"Enter the second number: \"))\n",
    "\n",
    "# Perform comparison operations\n",
    "greater_than = num1 > num2\n",
    "less_than_equal = num1 <= num2\n",
    "equal = num1 == num2\n",
    "\n",
    "# Display the results\n",
    "print(\"First number > Second number:\", greater_than)\n",
    "print(\"First number <= Second number:\", less_than_equal)\n",
    "print(\"First number == Second number:\", equal)\n",
    "# End of your code"
   ]
  },
  {
   "cell_type": "markdown",
   "id": "e92206a4",
   "metadata": {},
   "source": [
    "- Write a Python program that takes a number from the user and determines whether it satisfies the following conditions:\n",
    "\n",
    "1. The number is greater than 10 and less than 20.\n",
    "2. The number is either divisible by 2 or divisible by 5.\n",
    "- Display the results accordingly."
   ]
  },
  {
   "cell_type": "code",
   "execution_count": 3,
   "id": "00334c13",
   "metadata": {},
   "outputs": [
    {
     "name": "stdout",
     "output_type": "stream",
     "text": [
      "Enter a number: 58\n",
      "Number satisfies condition 1: False\n",
      "Number satisfies condition 2: True\n"
     ]
    }
   ],
   "source": [
    "# Question 3: Logical Operators\n",
    "\n",
    "# Write your code below this line\n",
    "num = int(input(\"Enter a number: \"))\n",
    "\n",
    "# Perform logical operations\n",
    "condition1 = num > 10 and num < 20\n",
    "condition2 = num % 2 == 0 or num % 5 == 0\n",
    "\n",
    "# Display the results\n",
    "print(\"Number satisfies condition 1:\", condition1)\n",
    "print(\"Number satisfies condition 2:\", condition2)\n",
    "# End of your code"
   ]
  },
  {
   "cell_type": "code",
   "execution_count": null,
   "id": "569ae3a5",
   "metadata": {},
   "outputs": [],
   "source": []
  }
 ],
 "metadata": {
  "kernelspec": {
   "display_name": "Python 3 (ipykernel)",
   "language": "python",
   "name": "python3"
  },
  "language_info": {
   "codemirror_mode": {
    "name": "ipython",
    "version": 3
   },
   "file_extension": ".py",
   "mimetype": "text/x-python",
   "name": "python",
   "nbconvert_exporter": "python",
   "pygments_lexer": "ipython3",
   "version": "3.11.5"
  }
 },
 "nbformat": 4,
 "nbformat_minor": 5
}
