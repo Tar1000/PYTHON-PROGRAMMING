{
 "cells": [
  {
   "cell_type": "markdown",
   "id": "c9450f16",
   "metadata": {},
   "source": [
    "# Variables and data types in python"
   ]
  },
  {
   "cell_type": "markdown",
   "id": "06b576d2",
   "metadata": {},
   "source": [
    "In Python, variables are used to store data values. They act as containers that hold a particular value or reference to an object. Python is a dynamically typed language, which means you don't need to explicitly declare the type of a variable. The type of a variable is determined based on the value assigned to it. Here are some commonly used data types in Python:"
   ]
  },
  {
   "cell_type": "markdown",
   "id": "e2827ed1",
   "metadata": {},
   "source": [
    "Numeric Types:\n",
    "\n",
    "int: Integer values, e.g., 5, -10, 100.\n",
    "float: Floating-point values, e.g., 3.14, -2.5, 1.0."
   ]
  },
  {
   "cell_type": "code",
   "execution_count": 1,
   "id": "13f0f37b",
   "metadata": {},
   "outputs": [],
   "source": [
    "# Numeric types\n",
    "age = 25\n",
    "weight = 65.5"
   ]
  },
  {
   "cell_type": "code",
   "execution_count": 2,
   "id": "30e0466a",
   "metadata": {},
   "outputs": [
    {
     "name": "stdout",
     "output_type": "stream",
     "text": [
      "25 <class 'int'>\n",
      "65.5 <class 'float'>\n"
     ]
    }
   ],
   "source": [
    "print(age, type(age))\n",
    "print(weight, type(weight))"
   ]
  },
  {
   "cell_type": "markdown",
   "id": "d1cc77eb",
   "metadata": {},
   "source": [
    "String:\n",
    "\n",
    "str: A sequence of characters enclosed in single quotes (' ') or double quotes (\" \"). For example, \"Hello, World!\" or 'Python'."
   ]
  },
  {
   "cell_type": "code",
   "execution_count": 4,
   "id": "848167c4",
   "metadata": {},
   "outputs": [],
   "source": [
    "# String\n",
    "name = \"Tar Joel\""
   ]
  },
  {
   "cell_type": "code",
   "execution_count": 5,
   "id": "77c36ecb",
   "metadata": {},
   "outputs": [
    {
     "name": "stdout",
     "output_type": "stream",
     "text": [
      "Tar Joel <class 'str'>\n"
     ]
    }
   ],
   "source": [
    "print(name, type(name))"
   ]
  },
  {
   "cell_type": "markdown",
   "id": "888c8795",
   "metadata": {},
   "source": [
    "Boolean:\n",
    "\n",
    "bool: Represents a boolean value, either True or False."
   ]
  },
  {
   "cell_type": "code",
   "execution_count": 6,
   "id": "ead8b360",
   "metadata": {},
   "outputs": [],
   "source": [
    "# Boolean\n",
    "is_student = True"
   ]
  },
  {
   "cell_type": "code",
   "execution_count": 7,
   "id": "803f248f",
   "metadata": {},
   "outputs": [
    {
     "name": "stdout",
     "output_type": "stream",
     "text": [
      "True <class 'bool'>\n"
     ]
    }
   ],
   "source": [
    "print(is_student, type(is_student))"
   ]
  },
  {
   "cell_type": "markdown",
   "id": "cdb6d29a",
   "metadata": {},
   "source": [
    "Sequence Types:\n",
    "\n",
    "list: An ordered collection of items, enclosed in square brackets ([]), separated by commas. Lists can contain elements of different types.\n",
    "tuple: Similar to lists, but they are immutable (cannot be modified once created). Tuples are enclosed in parentheses (())."
   ]
  },
  {
   "cell_type": "code",
   "execution_count": 8,
   "id": "f04c4469",
   "metadata": {},
   "outputs": [],
   "source": [
    "# List\n",
    "numbers = [1, 2, 3, 4, 5]"
   ]
  },
  {
   "cell_type": "code",
   "execution_count": 9,
   "id": "6ab26388",
   "metadata": {},
   "outputs": [
    {
     "name": "stdout",
     "output_type": "stream",
     "text": [
      "[1, 2, 3, 4, 5] <class 'list'>\n"
     ]
    }
   ],
   "source": [
    "print(numbers, type(numbers))"
   ]
  },
  {
   "cell_type": "markdown",
   "id": "f84b3c6f",
   "metadata": {},
   "source": [
    "Mapping Type:\n",
    "\n",
    "dict: A collection of key-value pairs enclosed in curly braces ({}). Keys must be unique within a dictionary."
   ]
  },
  {
   "cell_type": "code",
   "execution_count": 10,
   "id": "b5cc6f08",
   "metadata": {},
   "outputs": [],
   "source": [
    "# Tuple\n",
    "coordinates = (10, 20)"
   ]
  },
  {
   "cell_type": "code",
   "execution_count": 11,
   "id": "88e708dc",
   "metadata": {},
   "outputs": [
    {
     "name": "stdout",
     "output_type": "stream",
     "text": [
      "(10, 20) <class 'tuple'>\n"
     ]
    }
   ],
   "source": [
    "print(coordinates, type(coordinates))"
   ]
  },
  {
   "cell_type": "markdown",
   "id": "3ed083e2",
   "metadata": {},
   "source": [
    "Set Types:\n",
    "\n",
    "set: An unordered collection of unique elements enclosed in curly braces ({}).\n",
    "frozenset: Similar to sets but immutable."
   ]
  },
  {
   "cell_type": "code",
   "execution_count": 12,
   "id": "75be7e40",
   "metadata": {},
   "outputs": [],
   "source": [
    "# Set\n",
    "fruits = {\"apple\", \"banana\", \"orange\"}"
   ]
  },
  {
   "cell_type": "code",
   "execution_count": 13,
   "id": "4771bfd5",
   "metadata": {},
   "outputs": [
    {
     "name": "stdout",
     "output_type": "stream",
     "text": [
      "{'apple', 'banana', 'orange'} <class 'set'>\n"
     ]
    }
   ],
   "source": [
    "print(fruits, type(fruits))"
   ]
  }
 ],
 "metadata": {
  "kernelspec": {
   "display_name": "Python 3 (ipykernel)",
   "language": "python",
   "name": "python3"
  },
  "language_info": {
   "codemirror_mode": {
    "name": "ipython",
    "version": 3
   },
   "file_extension": ".py",
   "mimetype": "text/x-python",
   "name": "python",
   "nbconvert_exporter": "python",
   "pygments_lexer": "ipython3",
   "version": "3.11.5"
  }
 },
 "nbformat": 4,
 "nbformat_minor": 5
}
